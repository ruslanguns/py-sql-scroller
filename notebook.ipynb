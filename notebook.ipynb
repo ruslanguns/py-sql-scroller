{
 "cells": [
  {
   "cell_type": "code",
   "execution_count": null,
   "metadata": {},
   "outputs": [],
   "source": [
    "import psycopg2\n",
    "import csv\n",
    "import os\n",
    "import time\n",
    "import tarfile\n",
    "from dotenv import load_dotenv\n",
    "\n",
    "load_dotenv()"
   ]
  },
  {
   "cell_type": "code",
   "execution_count": null,
   "metadata": {},
   "outputs": [],
   "source": [
    "table_name = \"recordings\"\n",
    "from_date = \"2023-04-10\"\n",
    "to_date = \"2023-06-14\"\n",
    "date_field = \"recorded\"\n",
    "page_size = 50000\n",
    "total_count = 100000"
   ]
  },
  {
   "cell_type": "code",
   "execution_count": null,
   "metadata": {},
   "outputs": [],
   "source": [
    "db_host = os.getenv('DATABASE_HOST')\n",
    "db_name = os.getenv('DATABASE_NAME')\n",
    "db_user = os.getenv('DATABASE_USER')\n",
    "db_password = os.getenv('DATABASE_PASSWORD')\n",
    "\n",
    "connection = psycopg2.connect(\n",
    "    host=db_host,\n",
    "    database=db_name,\n",
    "    user=db_user,\n",
    "    password=db_password\n",
    ")"
   ]
  },
  {
   "cell_type": "code",
   "execution_count": null,
   "metadata": {},
   "outputs": [],
   "source": [
    "count_query = f\"SELECT COUNT(*) FROM {table_name} WHERE {date_field} >= '{from_date}' AND {date_field} < '{to_date}'\"\n",
    "count_cursor = connection.cursor()\n",
    "count_cursor.execute(count_query)\n",
    "total_count = count_cursor.fetchone()[0]\n",
    "\n",
    "print(\"Total records:\", total_count)"
   ]
  },
  {
   "cell_type": "code",
   "execution_count": null,
   "metadata": {},
   "outputs": [],
   "source": [
    "num_pages = total_count // page_size\n",
    "if total_count % page_size > 0:\n",
    "    num_pages += 1\n",
    "\n",
    "for i in range(num_pages):\n",
    "\n",
    "    offset = i * page_size\n",
    "    paging_query = f\"SELECT * FROM {table_name} WHERE {date_field} >= '{from_date}' AND {date_field} < '{to_date}' LIMIT {page_size} OFFSET {offset}\"\n",
    "    \n",
    "    paging_cursor = connection.cursor()\n",
    "    paging_cursor.execute(paging_query)\n",
    "    \n",
    "    records = paging_cursor.fetchall()\n",
    "\n",
    "    current_file_path = f'output/backup_{i+1}.csv'\n",
    "\n",
    "    with open(current_file_path, 'a', newline='') as csv_file:\n",
    "        writer = csv.writer(csv_file)\n",
    "\n",
    "        isEmpty = csv_file.tell() == 0\n",
    "        if isEmpty:\n",
    "            column_names = []\n",
    "            for desc in paging_cursor.description:\n",
    "                column_names.append(desc[0])\n",
    "            writer.writerow(column_names)\n",
    "\n",
    "        for r in records:\n",
    "            writer.writerow(r)\n",
    "\n",
    "    percentage = f'{((i+1) * 100) / num_pages:.0f}%'\n",
    "    print(f'Writing {len(records)} records to CSV file ({percentage})')\n",
    "    \n",
    "    time.sleep(0.2)"
   ]
  },
  {
   "cell_type": "code",
   "execution_count": 34,
   "metadata": {},
   "outputs": [],
   "source": [
    "dir_path = './output/'\n",
    "tar_name = './output/compressed_csvs.tar.gz'\n",
    "\n",
    "with tarfile.open(tar_name, 'w:gz') as tar:\n",
    "    for filename in os.listdir(dir_path):\n",
    "        if filename.endswith('.csv'):\n",
    "            csv_path = os.path.join(dir_path, filename)\n",
    "\n",
    "            tar.add(csv_path, arcname=os.path.basename(csv_path))\n",
    "            \n",
    "print('Compressed CSV files into tar.gz file')"
   ]
  },
  {
   "cell_type": "code",
   "execution_count": null,
   "metadata": {},
   "outputs": [],
   "source": [
    "count_cursor.close()\n",
    "paging_cursor.close()\n",
    "connection.close()"
   ]
  }
 ],
 "metadata": {
  "kernelspec": {
   "display_name": "venv",
   "language": "python",
   "name": "python3"
  },
  "language_info": {
   "codemirror_mode": {
    "name": "ipython",
    "version": 3
   },
   "file_extension": ".py",
   "mimetype": "text/x-python",
   "name": "python",
   "nbconvert_exporter": "python",
   "pygments_lexer": "ipython3",
   "version": "3.10.6"
  },
  "orig_nbformat": 4
 },
 "nbformat": 4,
 "nbformat_minor": 2
}
